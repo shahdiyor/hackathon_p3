{
 "cells": [
  {
   "cell_type": "code",
   "execution_count": 3,
   "id": "04871264",
   "metadata": {},
   "outputs": [],
   "source": [
    "import numpy as np\n",
    "import matplotlib.pyplot as plt\n",
    "import cv2\n",
    "import os"
   ]
  },
  {
   "cell_type": "code",
   "execution_count": 5,
   "id": "8f0c3e66",
   "metadata": {},
   "outputs": [],
   "source": [
    "DATADIR = \"./data/train\"\n",
    "TESTDIR = \"./data/test\"\n",
    "\n",
    "for category in os.listdir(DATADIR):\n",
    "    path = os.path.join(DATADIR, category)\n",
    "    for img in os.listdir(path):\n",
    "        img_array = cv2.imread(os.path.join(path, img), cv2.IMREAD_GRAYSCALE)\n",
    "        break\n",
    "    break"
   ]
  },
  {
   "cell_type": "code",
   "execution_count": 6,
   "id": "aabd703b",
   "metadata": {},
   "outputs": [
    {
     "name": "stdout",
     "output_type": "stream",
     "text": [
      "(48, 48)\n"
     ]
    }
   ],
   "source": [
    "print(img_array.shape)"
   ]
  },
  {
   "cell_type": "code",
   "execution_count": 7,
   "id": "12c62b46",
   "metadata": {},
   "outputs": [],
   "source": [
    "training_data = []\n",
    "\n",
    "def createTrainingData():\n",
    "    for category in os.listdir(DATADIR):\n",
    "        path = os.path.join(DATADIR, category)\n",
    "        category_num = os.listdir(DATADIR).index(category)\n",
    "        for img in os.listdir(path):\n",
    "            try:\n",
    "                img_array = cv2.imread(os.path.join(path, img), cv2.IMREAD_GRAYSCALE)\n",
    "                training_data.append([img_array, category_num])\n",
    "            except Exception as e:\n",
    "                pass\n",
    "\n",
    "createTrainingData()"
   ]
  },
  {
   "cell_type": "code",
   "execution_count": 8,
   "id": "da8b8029",
   "metadata": {},
   "outputs": [],
   "source": [
    "testing_data = []\n",
    "\n",
    "def createTestingData():\n",
    "    for category in os.listdir(TESTDIR):\n",
    "        path = os.path.join(DATADIR, category)\n",
    "        category_num = os.listdir(DATADIR).index(category)\n",
    "        for img in os.listdir(path):\n",
    "            try:\n",
    "                img_array = cv2.imread(os.path.join(path, img), cv2.IMREAD_GRAYSCALE)\n",
    "                testing_data.append([img_array, category_num])\n",
    "            except Exception as e:\n",
    "                pass\n",
    "\n",
    "createTestingData()"
   ]
  },
  {
   "cell_type": "code",
   "execution_count": 9,
   "id": "ba586899",
   "metadata": {},
   "outputs": [],
   "source": [
    "import random\n",
    "\n",
    "random.shuffle(training_data)\n",
    "random.shuffle(testing_data)"
   ]
  },
  {
   "cell_type": "code",
   "execution_count": 10,
   "id": "c2f6bee2",
   "metadata": {},
   "outputs": [],
   "source": [
    "x_train = []\n",
    "y_train = []\n",
    "x_test = []\n",
    "y_test = []\n",
    "\n",
    "for feature, label in training_data:\n",
    "    x_train.append(feature)\n",
    "    y_train.append(label)\n",
    "    \n",
    "for feature, label in testing_data:\n",
    "    x_test.append(feature)\n",
    "    y_test.append(label)\n",
    "    \n",
    "x_train = np.array(x_train).reshape(-1, 48, 48, 1)\n",
    "x_test = np.array(x_train).reshape(-1, 48, 48, 1)\n",
    "\n",
    "y_train = np.array(y_train)\n",
    "y_test = np.array(y_train)"
   ]
  },
  {
   "cell_type": "code",
   "execution_count": 2,
   "id": "8b3e9b7d",
   "metadata": {},
   "outputs": [],
   "source": [
    "import tensorflow as tf\n",
    "from tensorflow.keras.models import Sequential\n",
    "from tensorflow.keras.layers import Dense, Conv2D, Flatten, MaxPooling2D, BatchNormalization"
   ]
  },
  {
   "cell_type": "code",
   "execution_count": null,
   "id": "80cabc42",
   "metadata": {},
   "outputs": [],
   "source": [
    "model = Sequential()\n",
    "\n",
    "model.add(Conv2D(32,(3,3), padding='same', input_shape=(48, 48,1), activation='relu'))\n",
    "model.add(BatchNormalization())\n",
    "model.add(MaxPooling2D(pool_size=(2, 2)))\n",
    "\n",
    "model.add(Conv2D(64,(3,3), padding='same', activation='relu'))\n",
    "model.add(BatchNormalization())\n",
    "model.add(MaxPooling2D(pool_size=(2, 2)))\n",
    "\n",
    "model.add(Conv2D(128,(3,3), padding='same', activation='relu'))\n",
    "model.add(BatchNormalization())\n",
    "model.add(MaxPooling2D(pool_size=(2, 2)))\n",
    "\n",
    "model.add(Conv2D(256,(3,3), padding='same', activation='relu'))\n",
    "model.add(BatchNormalization())\n",
    "model.add(MaxPooling2D(pool_size=(2, 2)))\n",
    "\n",
    "model.add(Flatten())\n",
    "\n",
    "model.add(Dense(128, activation='relu'))\n",
    "model.add(BatchNormalization())\n",
    "\n",
    "model.add(Dense(256, activation='relu'))\n",
    "model.add(BatchNormalization())\n",
    "\n",
    "model.add(Dense(7, activation='sigmoid'))\n",
    "\n",
    "model.compile(optimizer='adam',\n",
    "             loss='sparse_categorical_crossentropy',\n",
    "             metrics=['accuracy'])\n",
    "\n",
    "model.fit(x_train, y_train, epochs=20, validation_batch_size=64)\n",
    "\n"
   ]
  },
  {
   "cell_type": "code",
   "execution_count": null,
   "id": "0aae7a1b",
   "metadata": {},
   "outputs": [],
   "source": [
    "l, a = model.evaluate(x_test, y_test)"
   ]
  },
  {
   "cell_type": "code",
   "execution_count": null,
   "id": "4d964484",
   "metadata": {},
   "outputs": [],
   "source": [
    "print(l, a)"
   ]
  },
  {
   "cell_type": "code",
   "execution_count": null,
   "id": "74556492-4b34-45ee-9d5d-b95ca68c7950",
   "metadata": {},
   "outputs": [],
   "source": [
    "model.save('weight')"
   ]
  },
  {
   "cell_type": "code",
   "execution_count": 14,
   "id": "11d7070c-d6c2-4cdf-804b-f03ed1b3f0ee",
   "metadata": {},
   "outputs": [],
   "source": [
    "new_model = tf.keras.models.load_model('weight')"
   ]
  },
  {
   "cell_type": "code",
   "execution_count": 15,
   "id": "2f82dc1c-d94c-425b-beca-0c8b7fb08623",
   "metadata": {},
   "outputs": [],
   "source": [
    "pred = new_model.predict(x_test)"
   ]
  },
  {
   "cell_type": "code",
   "execution_count": null,
   "id": "0647f946-4493-45cb-9b6c-189f638360b2",
   "metadata": {},
   "outputs": [],
   "source": [
    "print(pred[0])"
   ]
  },
  {
   "cell_type": "code",
   "execution_count": null,
   "id": "c69d580b-8959-4645-9c68-3bbd7fb090b7",
   "metadata": {},
   "outputs": [],
   "source": [
    "print(np.argmax(pred[26]))"
   ]
  },
  {
   "cell_type": "code",
   "execution_count": null,
   "id": "c69baabf-d007-4424-86cd-42317370eff6",
   "metadata": {},
   "outputs": [],
   "source": [
    "plt.imshow(x_test[6])\n",
    "plt.show()"
   ]
  },
  {
   "cell_type": "code",
   "execution_count": null,
   "id": "ad74d6e0",
   "metadata": {},
   "outputs": [],
   "source": []
  }
 ],
 "metadata": {
  "kernelspec": {
   "display_name": "Python 3.10.5 64-bit",
   "language": "python",
   "name": "python3"
  },
  "language_info": {
   "codemirror_mode": {
    "name": "ipython",
    "version": 3
   },
   "file_extension": ".py",
   "mimetype": "text/x-python",
   "name": "python",
   "nbconvert_exporter": "python",
   "pygments_lexer": "ipython3",
   "version": "3.10.5"
  },
  "vscode": {
   "interpreter": {
    "hash": "c7be1a912f2d1f9e316189b0dc96931417efe27c4966ff8c804beb2b81841ed2"
   }
  }
 },
 "nbformat": 4,
 "nbformat_minor": 5
}
